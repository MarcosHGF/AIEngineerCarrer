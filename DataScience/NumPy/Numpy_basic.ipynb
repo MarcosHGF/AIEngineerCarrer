{
 "cells": [
  {
   "cell_type": "markdown",
   "id": "de6ced0e",
   "metadata": {},
   "source": [
    "# NUMPY\n",
    "\n",
    "NumPy (Numerical Python) is a fundamental open-source library that provides fast and efficient tools for numerical computing in Python. Its core feature is the powerful N-dimensional array object called ndarray, which allows for compact storage and high-speed manipulation of large datasets. NumPy supports vectorized operations, broadcasting, and a wide range of mathematical, statistical, and linear algebra functions, making it significantly faster and more memory-efficient than native Python lists and loops.\n",
    "\n",
    "In Data Science, NumPy is essential for tasks like data cleaning, transformation, feature engineering, and mathematical modeling. It serves as the backbone for many popular data science and machine learning libraries, such as Pandas, Scikit-learn, TensorFlow, and PyTorch. Data scientists rely on NumPy for fast numerical computations, efficient manipulation of large data arrays, and as a foundation for building scalable AI and ML pipelines."
   ]
  },
  {
   "cell_type": "markdown",
   "id": "4d0e251a",
   "metadata": {},
   "source": [
    "## Import"
   ]
  },
  {
   "cell_type": "code",
   "execution_count": null,
   "id": "1720462f",
   "metadata": {},
   "outputs": [],
   "source": [
    "%pip install numpy\n",
    "\n",
    "import numpy as np"
   ]
  },
  {
   "cell_type": "markdown",
   "id": "0de1c9e2",
   "metadata": {},
   "source": [
    "## Creating & Manipulating ndarrays"
   ]
  },
  {
   "cell_type": "markdown",
   "id": "762c34d2",
   "metadata": {},
   "source": [
    "### Array Creation"
   ]
  },
  {
   "cell_type": "code",
   "execution_count": null,
   "id": "e5d5261c",
   "metadata": {},
   "outputs": [],
   "source": [
    "a = np.array([1, 2, 3])                # from Python list\n",
    "b = np.arange(0, 10, 2)                # [0,2,4,6,8]\n",
    "c = np.linspace(0, 1, num=5)           # 5 equally spaced\n",
    "zeros = np.zeros((3,4))               # 3×4 of 0.0\n",
    "ones = np.ones(5, dtype=np.int32)     # length‑5 ints of 1\n",
    "full = np.full((2,2), fill_value=7)   # all sevens\n",
    "eye = np.eye(3)                        # 3×3 identity"
   ]
  },
  {
   "cell_type": "markdown",
   "id": "6b3b8d17",
   "metadata": {},
   "source": [
    "#### Best Practices\n",
    "\n",
    "Pre‑allocate large arrays with zeros/empty to avoid costly Python loops.\n",
    "\n",
    "Use dtype to control memory/precision (e.g. float32 for GPU models)."
   ]
  },
  {
   "cell_type": "markdown",
   "id": "88170822",
   "metadata": {},
   "source": [
    "### Shape Manipulation"
   ]
  },
  {
   "cell_type": "code",
   "execution_count": null,
   "id": "b16a8290",
   "metadata": {},
   "outputs": [],
   "source": [
    "x = np.arange(12)              # shape (12,)\n",
    "y = x.reshape((3,4))           # shape (3,4), view when possible\n",
    "flat = y.ravel()               # view, flattened\n",
    "copy_flat = y.flatten()        # copy\n",
    "squeezed = y.reshape(1,3,4).squeeze()  # remove size‑1 dims\n",
    "expanded = np.expand_dims(x, axis=0)   # shape (1,12)\n"
   ]
  },
  {
   "cell_type": "markdown",
   "id": "f2efe023",
   "metadata": {},
   "source": [
    "## Dimension Management & Broadcasting"
   ]
  },
  {
   "cell_type": "markdown",
   "id": "ce742fd4",
   "metadata": {},
   "source": [
    "### Broadcasting Mechanics\n",
    "Broadcasting automatically expands smaller arrays to match shapes when performing arithmetic, following these rules:\n",
    "\n",
    "    Align dimensions from the right.\n",
    "    Dimensions must be equal or one of them is 1.\n",
    "    The one with dimension 1 is “stretched” (no actual data copy)."
   ]
  },
  {
   "cell_type": "code",
   "execution_count": null,
   "id": "f0998862",
   "metadata": {},
   "outputs": [],
   "source": [
    "a = np.array([1,2,3])          # shape (3,)\n",
    "b = np.array([[1],[2],[3]])    # shape (3,1)\n",
    "a + b  # result shape (3,3)\n"
   ]
  },
  {
   "cell_type": "markdown",
   "id": "8a6cfaa2",
   "metadata": {},
   "source": [
    "### Advanced Indexing & Slicing"
   ]
  },
  {
   "cell_type": "code",
   "execution_count": null,
   "id": "bdbd63d3",
   "metadata": {},
   "outputs": [],
   "source": [
    "# Fancy Indexing\n",
    "\n",
    "arr = np.arange(10)\n",
    "idx = [2,5,7]\n",
    "arr[idx]                # array([2,5,7])\n",
    "\n",
    "# Boolean Masking\n",
    "\n",
    "mask = arr % 2 == 0\n",
    "evens = arr[mask]\n",
    "\n",
    "# Conditional Selection\n",
    "\n",
    "arr[arr > 5] = -1\n",
    "\n",
    "# Multi‑dimensional Slicing\n",
    "\n",
    "mat = np.arange(16).reshape(4,4)\n",
    "sub = mat[1:3, 2:4]     # rows 1–2, cols 2–3"
   ]
  },
  {
   "cell_type": "markdown",
   "id": "334eb155",
   "metadata": {},
   "source": [
    "## Data Types & Memory Optimization"
   ]
  },
  {
   "cell_type": "code",
   "execution_count": null,
   "id": "f1081a4e",
   "metadata": {},
   "outputs": [],
   "source": [
    "# Dtypes: float32, float64, int8, int32, bool, etc.\n",
    "\n",
    "a = np.arange(5, dtype=np.int64)\n",
    "b = a.astype(np.float32)\n"
   ]
  },
  {
   "cell_type": "markdown",
   "id": "d54adca9",
   "metadata": {},
   "source": [
    "## Mathematical & Statistical Operations"
   ]
  },
  {
   "cell_type": "markdown",
   "id": "c6e4e05d",
   "metadata": {},
   "source": [
    "### Vectorized & Element‑wise"
   ]
  },
  {
   "cell_type": "code",
   "execution_count": null,
   "id": "25bfc9d5",
   "metadata": {},
   "outputs": [],
   "source": [
    "a = np.random.rand(1000000)\n",
    "b = 2 * a + 1           # vectorized, no Python loop\n",
    "c = np.sin(a) * np.log(a+1)\n"
   ]
  },
  {
   "cell_type": "markdown",
   "id": "fd4c4e35",
   "metadata": {},
   "source": [
    "### Aggregation Functions"
   ]
  },
  {
   "cell_type": "code",
   "execution_count": null,
   "id": "3beb13b1",
   "metadata": {},
   "outputs": [],
   "source": [
    "m = a.mean()            # scalar\n",
    "s = a.std(axis=0)       # along axis\n",
    "total = a.sum()\n",
    "cum = np.cumsum(a)\n",
    "perc = np.percentile(a, 90)\n"
   ]
  },
  {
   "cell_type": "markdown",
   "id": "cac578ef",
   "metadata": {},
   "source": [
    "Axis Management: specify axis=0 (rows) or axis=1 (cols) for 2D arrays.\n",
    "\n",
    "Ignoring NaNs: np.nanmean(), np.nansum(), etc."
   ]
  },
  {
   "cell_type": "markdown",
   "id": "1313f315",
   "metadata": {},
   "source": [
    "## Linear Algebra Essentials"
   ]
  },
  {
   "cell_type": "code",
   "execution_count": null,
   "id": "e55d0b8d",
   "metadata": {},
   "outputs": [],
   "source": [
    "A = np.random.randn(4,4)\n",
    "B = np.random.randn(4,4)\n",
    "# Multiplication\n",
    "C1 = A.dot(B)\n",
    "C2 = A @ B\n",
    "# Transpose\n",
    "At = A.T\n",
    "# Determinant, inverse, rank, eigendecomp\n",
    "det = np.linalg.det(A)\n",
    "inv = np.linalg.inv(A)\n",
    "rank = np.linalg.matrix_rank(A)\n",
    "w, v = np.linalg.eig(A)      # eigenvalues w, eigenvectors v\n",
    "# Solve Ax = b\n",
    "b = np.random.rand(4)\n",
    "x = np.linalg.solve(A, b)\n"
   ]
  },
  {
   "cell_type": "markdown",
   "id": "938b926f",
   "metadata": {},
   "source": [
    "## Random Number Generation & Simulation"
   ]
  },
  {
   "cell_type": "code",
   "execution_count": null,
   "id": "49f5f0a8",
   "metadata": {},
   "outputs": [],
   "source": [
    "rng = np.random.default_rng(seed=42)      # modern Generator API\n",
    "u = rng.uniform(0,1, size=1000)\n",
    "n = rng.normal(loc=0, scale=1, size=(1000,))\n",
    "b = rng.binomial(n=10, p=0.3, size=500)\n"
   ]
  },
  {
   "cell_type": "markdown",
   "id": "c5557715",
   "metadata": {},
   "source": [
    "## Fast Computations via Vectorization"
   ]
  },
  {
   "cell_type": "code",
   "execution_count": null,
   "id": "4e8ee08b",
   "metadata": {},
   "outputs": [],
   "source": [
    "# Replace Python loops\n",
    "\n",
    "# Slow\n",
    "out = []\n",
    "for x in a:\n",
    "    out.append(x**2 + 2*x + 1)\n",
    "# Fast\n",
    "out = a**2 + 2*a + 1\n",
    "\n",
    "#Real‑world Example: feature engineering for pairwise distances\n",
    "\n",
    "# Given pts shape (N,2), compute NxN distance matrix\n",
    "diff = pts[:,None,:] - pts[None,:,:]   # broadcasting to (N,N,2)\n",
    "dists = np.sqrt((diff**2).sum(axis=2))\n"
   ]
  },
  {
   "cell_type": "markdown",
   "id": "66ee4799",
   "metadata": {},
   "source": [
    "## Handling NaNs & Infs"
   ]
  },
  {
   "cell_type": "code",
   "execution_count": null,
   "id": "4e1e55e6",
   "metadata": {},
   "outputs": [],
   "source": [
    "data = np.array([1, np.nan, np.inf, 4])\n",
    "np.isnan(data)\n",
    "np.isinf(data)\n",
    "clean = np.nan_to_num(data, nan=0.0, posinf=1e6)\n",
    "# Stats ignoring NaN\n",
    "mean_no_nan = np.nanmean(data)\n"
   ]
  },
  {
   "cell_type": "markdown",
   "id": "6622d063",
   "metadata": {},
   "source": [
    "## Concatenation, Splitting & Repeating"
   ]
  },
  {
   "cell_type": "code",
   "execution_count": null,
   "id": "996866bd",
   "metadata": {},
   "outputs": [],
   "source": [
    "a,b = np.random.rand(3,3), np.random.rand(3,3)\n",
    "v = np.vstack([a,b])     # shape (6,3)\n",
    "h = np.hstack([a,b])     # shape (3,6)\n",
    "c = np.column_stack([a[:,0], b[:,1]])\n",
    "# Splitting\n",
    "parts = np.split(v, 2, axis=0)\n",
    "# Tiling & repeating\n",
    "tile = np.tile(a, (2,3))     # repeat blocks\n",
    "rep = np.repeat(a, 2, axis=1)\n"
   ]
  },
  {
   "cell_type": "markdown",
   "id": "1a0077a8",
   "metadata": {},
   "source": [
    "## Efficient File I/O"
   ]
  },
  {
   "cell_type": "code",
   "execution_count": null,
   "id": "f6beb17f",
   "metadata": {},
   "outputs": [],
   "source": [
    "# Binary\n",
    "np.save('arr.npy', a)\n",
    "b = np.load('arr.npy')\n",
    "# Multiple arrays\n",
    "np.savez('multi.npz', a=a, b=b)\n",
    "# Text\n",
    "np.savetxt('data.csv', m, delimiter=',', header='c1,c2,c3')\n",
    "m2 = np.loadtxt('data.csv', delimiter=',', skiprows=1)\n",
    "m3 = np.genfromtxt('data.csv', delimiter=',', names=True)\n"
   ]
  },
  {
   "cell_type": "markdown",
   "id": "18e6bc8d",
   "metadata": {},
   "source": [
    "## Integrating with Pandas & ML Pipelines"
   ]
  },
  {
   "cell_type": "code",
   "execution_count": null,
   "id": "07b8bf49",
   "metadata": {},
   "outputs": [],
   "source": [
    "#Convert back‑and‑forth\n",
    "\n",
    "import pandas as pd\n",
    "df = pd.DataFrame(a, columns=['x','y','z'])\n",
    "arr = df.values   # or df.to_numpy()\n",
    "\n",
    "#Preprocessing with NumPy\n",
    "\n",
    "# Standardization\n",
    "X_std = (X - X.mean(axis=0)) / X.std(axis=0)\n",
    "# Min‑Max scaling\n",
    "X_mm = (X - X.min(axis=0)) / (X.max(axis=0) - X.min(axis=0))"
   ]
  },
  {
   "cell_type": "markdown",
   "id": "b4b79ab5",
   "metadata": {},
   "source": [
    "## Performance Benchmarking"
   ]
  },
  {
   "cell_type": "code",
   "execution_count": null,
   "id": "19ba7b28",
   "metadata": {},
   "outputs": [],
   "source": [
    "# Timing\n",
    "%timeit np.sum(a)\n",
    "%timeit sum(a)          # pure Python\n",
    "# Vectorize Python function\n",
    "f = np.vectorize(lambda x: x**3 + 2)\n",
    "v = f(a)                # still slower than direct arithmetics\n"
   ]
  }
 ],
 "metadata": {
  "kernelspec": {
   "display_name": "AiCarrer",
   "language": "python",
   "name": "python3"
  },
  "language_info": {
   "name": "python",
   "version": "3.11.13"
  }
 },
 "nbformat": 4,
 "nbformat_minor": 5
}
