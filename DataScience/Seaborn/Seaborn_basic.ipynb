{
 "cells": [
  {
   "cell_type": "markdown",
   "id": "c3924203",
   "metadata": {},
   "source": [
    "# Seaborn\n",
    "\n",
    "Seaborn is a high‑level Python library built on top of Matplotlib that simplifies the creation of attractive, informative statistical graphics such as scatter plots, bar charts, box plots, violin plots, heatmaps, and multi‑plot grids by providing a concise, consistent API and polished default styles. It integrates seamlessly with Pandas DataFrames and NumPy arrays to streamline exploratory data analysis, model evaluation, and feature‐engineering visualizations, making it an essential tool for data scientists and AI engineers who need to quickly generate publication‑ready charts that reveal patterns, relationships, and insights in complex datasets."
   ]
  },
  {
   "cell_type": "markdown",
   "id": "6e91fac0",
   "metadata": {},
   "source": [
    "## Essential Plot Types\n",
    "\n",
    "### Relational Plots\n",
    "*Use Case*: Visualize relationships, trends over time or continuous variable"
   ]
  },
  {
   "cell_type": "code",
   "execution_count": null,
   "id": "6faded27",
   "metadata": {},
   "outputs": [],
   "source": [
    "import seaborn as sns\n",
    "import pandas as pd\n",
    "\n",
    "# Sample: model performance vs learning rate\n",
    "df = pd.DataFrame({\n",
    "    'lr': [0.001,0.01,0.1,1],\n",
    "    'accuracy': [0.82, 0.88, 0.91, 0.89]\n",
    "})\n",
    "sns.set_theme()\n",
    "sns.lineplot(data=df, x='lr', y='accuracy', marker='o')"
   ]
  },
  {
   "cell_type": "markdown",
   "id": "c0b0cdce",
   "metadata": {},
   "source": [
    "#### Best practices:\n",
    "\n",
    "Log-scale for hyperparameters: ax.set_xscale('log')\n",
    "Add markers for clarity\n",
    "Use hue for multiple model comparisons\n",
    "\n",
    "### Categorical Plots\n",
    "\n",
    "*Use Case*: Box, Bar, Violin, Strip, Swarm"
   ]
  },
  {
   "cell_type": "code",
   "execution_count": null,
   "id": "214eb2ed",
   "metadata": {},
   "outputs": [],
   "source": [
    "df = pd.DataFrame(...)\n",
    "sns.boxplot(data=df, x='model', y='error_rate', palette='Set2')\n",
    "sns.stripplot(data=df, x='model', y='error_rate', color='black', alpha=0.5)"
   ]
  },
  {
   "cell_type": "markdown",
   "id": "994ee3bf",
   "metadata": {},
   "source": [
    "### Distribution Plots\n",
    "\n",
    "*Use Case*: Histplot, KDE, Displot, ECDF"
   ]
  },
  {
   "cell_type": "code",
   "execution_count": null,
   "id": "5d654cdf",
   "metadata": {},
   "outputs": [],
   "source": [
    "sns.displot(data=df, x='feature', kde=True, bins=30)"
   ]
  },
  {
   "cell_type": "markdown",
   "id": "280daf5e",
   "metadata": {},
   "source": [
    "#### Best practices:\n",
    "\n",
    "Always inspect univariate distributions before modeling\n",
    "Use stat='density' to compare densities\n",
    "\n",
    "### Matrix Plots\n",
    "\n",
    "Heatmap & Clustermap\n",
    "*Use Case*:  Feature correlation for EDA, multicollinearity check"
   ]
  },
  {
   "cell_type": "code",
   "execution_count": null,
   "id": "18407848",
   "metadata": {},
   "outputs": [],
   "source": [
    "corr = df.corr()\n",
    "sns.heatmap(corr, annot=True, cmap='coolwarm')"
   ]
  },
  {
   "cell_type": "markdown",
   "id": "9a8d5a27",
   "metadata": {},
   "source": [
    "### Regression Plots"
   ]
  },
  {
   "cell_type": "code",
   "execution_count": null,
   "id": "776ee9da",
   "metadata": {},
   "outputs": [],
   "source": [
    "sns.regplot(data=df, x='x', y='y', ci=95)"
   ]
  },
  {
   "cell_type": "markdown",
   "id": "65fa595f",
   "metadata": {},
   "source": [
    "### Multi-Plot Grids"
   ]
  },
  {
   "cell_type": "code",
   "execution_count": null,
   "id": "3b08a2a1",
   "metadata": {},
   "outputs": [],
   "source": [
    "sns.pairplot(df, hue='target', diag_kind='kde')"
   ]
  },
  {
   "cell_type": "markdown",
   "id": "b82a34d1",
   "metadata": {},
   "source": [
    "## Customization\n",
    "\n",
    "### Themes & Contexts"
   ]
  },
  {
   "cell_type": "code",
   "execution_count": null,
   "id": "940ee3c5",
   "metadata": {},
   "outputs": [],
   "source": [
    "sns.set_theme(style='whitegrid', context='talk')"
   ]
  },
  {
   "cell_type": "markdown",
   "id": "c0cd81ad",
   "metadata": {},
   "source": [
    "### Color Palettes"
   ]
  },
  {
   "cell_type": "code",
   "execution_count": null,
   "id": "c7762351",
   "metadata": {},
   "outputs": [],
   "source": [
    "sns.color_palette('rocket', as_cmap=True)"
   ]
  },
  {
   "cell_type": "markdown",
   "id": "95a31ffa",
   "metadata": {},
   "source": [
    "### Axes & Annotations"
   ]
  },
  {
   "cell_type": "code",
   "execution_count": null,
   "id": "f21a993e",
   "metadata": {},
   "outputs": [],
   "source": [
    "ax = sns.barplot(...)\n",
    "ax.set_title('Model Accuracy by Setting', fontsize=16)\n",
    "ax.set_xlabel('Configuration')\n",
    "ax.annotate('Best', xy=(2,0.91), xytext=(2.5,0.93), arrowprops=dict(arrowstyle='->'))"
   ]
  },
  {
   "cell_type": "markdown",
   "id": "bbc7d64d",
   "metadata": {},
   "source": [
    "## Statistical Visualization for ML\n",
    "\n",
    "Visualizing target distributions vs features\n",
    "Stratified histograms for class imbalance\n",
    "Regression fit with confidence intervals\n",
    "Multivariate via hue, size, style"
   ]
  },
  {
   "cell_type": "code",
   "execution_count": null,
   "id": "93ef3385",
   "metadata": {},
   "outputs": [],
   "source": [
    "sns.histplot(data=df, x='feature', hue='target', multiple='stack')"
   ]
  },
  {
   "cell_type": "markdown",
   "id": "9e53cc06",
   "metadata": {},
   "source": [
    "## Seaborn with Pandas & NumPy\n",
    "\n",
    "Direct DataFrame plotting\n",
    "melt() for reshaping data\n",
    "Handling DatetimeIndex"
   ]
  },
  {
   "cell_type": "code",
   "execution_count": null,
   "id": "2b797429",
   "metadata": {},
   "outputs": [],
   "source": [
    "long = df.melt(id_vars='id', var_name='feature', value_name='value')\n",
    "sns.boxplot(data=long, x='feature', y='value')"
   ]
  },
  {
   "cell_type": "markdown",
   "id": "e0956570",
   "metadata": {},
   "source": [
    "## Real-World EDA\n",
    "\n",
    "Check missing values\n",
    "Univariate distributions: histplot, kdeplot\n",
    "Bivariate: scatterplot, boxplot\n",
    "Correlation heatmap"
   ]
  },
  {
   "cell_type": "code",
   "execution_count": null,
   "id": "4bcf6897",
   "metadata": {},
   "outputs": [],
   "source": [
    "df = sns.load_dataset('data')\n",
    "sns.histplot(df['column'].dropna(), kde=True)"
   ]
  },
  {
   "cell_type": "markdown",
   "id": "97a9edef",
   "metadata": {},
   "source": [
    "## Multi-Plot Layouts\n",
    "\n",
    "*Use Case*: Use FacetGrid, catplot, PairGrid to create dashboards of small multiples."
   ]
  },
  {
   "cell_type": "code",
   "execution_count": null,
   "id": "8e1684a5",
   "metadata": {},
   "outputs": [],
   "source": [
    "g = sns.FacetGrid(df, col='sex', hue='survived')\n",
    "g.map(sns.histplot, 'age', kde=True)"
   ]
  },
  {
   "cell_type": "markdown",
   "id": "0069c5a4",
   "metadata": {},
   "source": [
    "## Confusion Matrices & Evaluation"
   ]
  },
  {
   "cell_type": "code",
   "execution_count": null,
   "id": "71698be2",
   "metadata": {},
   "outputs": [],
   "source": [
    "from sklearn.metrics import confusion_matrix\n",
    "cm = confusion_matrix(y_true, y_pred)\n",
    "sns.heatmap(cm, annot=True, fmt='d', cmap='Blues')\n",
    "\n",
    "# Plot ROC/PR with Seaborn style:\n",
    "\n",
    "from sklearn.metrics import roc_curve\n",
    "fpr, tpr, _ = roc_curve(y_true, y_prob)\n",
    "sns.lineplot(x=fpr, y=tpr)"
   ]
  },
  {
   "cell_type": "markdown",
   "id": "6862fda1",
   "metadata": {},
   "source": [
    "## Time Series Visualization"
   ]
  },
  {
   "cell_type": "code",
   "execution_count": null,
   "id": "1c50d632",
   "metadata": {},
   "outputs": [],
   "source": [
    "df_ts = df.set_index('date')\n",
    "sns.lineplot(data=df_ts['value'].rolling(30).mean())"
   ]
  },
  {
   "cell_type": "markdown",
   "id": "f53dccf4",
   "metadata": {},
   "source": [
    "## Saving Plots Professionally"
   ]
  },
  {
   "cell_type": "code",
   "execution_count": null,
   "id": "3cd6c991",
   "metadata": {},
   "outputs": [],
   "source": [
    "fig = ax.get_figure()\n",
    "fig.savefig('plot.png', dpi=300, bbox_inches='tight')"
   ]
  },
  {
   "cell_type": "markdown",
   "id": "402eba48",
   "metadata": {},
   "source": [
    "## Automating Plot Workflows\n",
    "\n",
    "*Use Case*: Wrap plots into functions, log with MLflow or custom scripts"
   ]
  },
  {
   "cell_type": "code",
   "execution_count": null,
   "id": "f8ed37dd",
   "metadata": {},
   "outputs": [],
   "source": [
    "def plot_feature_distribution(df, feature, hue=None):\n",
    "    ax = sns.histplot(df, x=feature, hue=hue, kde=True)\n",
    "    return ax"
   ]
  }
 ],
 "metadata": {
  "kernelspec": {
   "display_name": "AiCarrer",
   "language": "python",
   "name": "python3"
  },
  "language_info": {
   "name": "python",
   "version": "3.11.13"
  }
 },
 "nbformat": 4,
 "nbformat_minor": 5
}
