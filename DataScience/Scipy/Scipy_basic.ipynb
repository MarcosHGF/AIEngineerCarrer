{
 "cells": [
  {
   "cell_type": "markdown",
   "id": "47bd2d15",
   "metadata": {},
   "source": [
    "# 1. What Is SciPy and Why It’s Essential\n",
    "\n",
    "SciPy is a Python library used for scientific and technical computing. It builds on NumPy and provides a large number of functions that operate on NumPy arrays and are useful for different types of scientific and engineering applications."
   ]
  },
  {
   "cell_type": "markdown",
   "id": "45bfc06b",
   "metadata": {},
   "source": [
    "## 2. SciPy Ecosystem & Architecture"
   ]
  },
  {
   "cell_type": "code",
   "execution_count": null,
   "id": "8d15dadf",
   "metadata": {},
   "outputs": [],
   "source": [
    "import numpy as np\n",
    "import pandas as pd\n",
    "from scipy import optimize, stats\n",
    "from sklearn.pipeline import Pipeline\n",
    "\n",
    "# Pipeline sample\n",
    "pipe = Pipeline([('opt', optimize.MinimizeAdapter()),\n",
    "                 ('model', MyModel())])\n"
   ]
  },
  {
   "cell_type": "markdown",
   "id": "29a120ea",
   "metadata": {},
   "source": [
    "## 3.1 scipy.optimize"
   ]
  },
  {
   "cell_type": "code",
   "execution_count": null,
   "id": "e8b6122e",
   "metadata": {},
   "outputs": [],
   "source": [
    "from scipy.optimize import minimize\n",
    "import numpy as np\n",
    "\n",
    "def loss(params, X, y):\n",
    "    preds = X.dot(params)\n",
    "    return np.mean((preds - y)**2) + 0.1*np.sum(params**2)\n",
    "\n",
    "X = np.random.rand(100, 5)\n",
    "y = np.random.rand(100)\n",
    "res = minimize(loss, x0=np.zeros(X.shape[1]), args=(X, y), method='BFGS')\n",
    "res.x"
   ]
  },
  {
   "cell_type": "markdown",
   "id": "59511cec",
   "metadata": {},
   "source": [
    "## 3.2 scipy.stats"
   ]
  },
  {
   "cell_type": "code",
   "execution_count": null,
   "id": "0655008e",
   "metadata": {},
   "outputs": [],
   "source": [
    "from scipy.stats import ttest_ind\n",
    "import numpy as np\n",
    "\n",
    "group_a = np.random.rand(50)\n",
    "group_b = np.random.rand(50) + 0.1\n",
    "stat, pval = ttest_ind(group_a, group_b)\n",
    "print(f\"p-value = {pval:.3f}\")\n"
   ]
  },
  {
   "cell_type": "markdown",
   "id": "b6396a02",
   "metadata": {},
   "source": [
    "## 3.3 scipy.sparse"
   ]
  },
  {
   "cell_type": "code",
   "execution_count": null,
   "id": "7e2f5d48",
   "metadata": {},
   "outputs": [],
   "source": [
    "from scipy.sparse import csr_matrix\n",
    "import numpy as np\n",
    "\n",
    "data = np.random.rand(10)\n",
    "rows = np.random.randint(0, 5, size=10)\n",
    "cols = np.random.randint(0, 5, size=10)\n",
    "X_sparse = csr_matrix((data, (rows, cols)), shape=(5, 5))\n",
    "print(X_sparse.toarray())"
   ]
  },
  {
   "cell_type": "markdown",
   "id": "4d574d2a",
   "metadata": {},
   "source": [
    "## 3.4 scipy.linalg"
   ]
  },
  {
   "cell_type": "code",
   "execution_count": null,
   "id": "50c0681c",
   "metadata": {},
   "outputs": [],
   "source": [
    "from scipy.linalg import svd\n",
    "import numpy as np\n",
    "\n",
    "X = np.random.rand(10, 5)\n",
    "U, s, Vt = svd(X, full_matrices=False)\n",
    "print(s)"
   ]
  },
  {
   "cell_type": "markdown",
   "id": "b5476bf6",
   "metadata": {},
   "source": [
    "## 3.5 scipy.integrate"
   ]
  },
  {
   "cell_type": "code",
   "execution_count": null,
   "id": "bac6f1d3",
   "metadata": {},
   "outputs": [],
   "source": [
    "from scipy.integrate import solve_ivp\n",
    "import numpy as np\n",
    "\n",
    "def pendulum(t, y):\n",
    "    theta, omega = y\n",
    "    return [omega, -9.81*np.sin(theta)]\n",
    "\n",
    "sol = solve_ivp(pendulum, [0, 10], [np.pi/4, 0], t_eval=np.linspace(0,10,100))"
   ]
  },
  {
   "cell_type": "markdown",
   "id": "5d6e9636",
   "metadata": {},
   "source": [
    "## 3.6 scipy.interpolate"
   ]
  },
  {
   "cell_type": "code",
   "execution_count": null,
   "id": "6e2ba280",
   "metadata": {},
   "outputs": [],
   "source": [
    "from scipy.interpolate import interp1d\n",
    "import numpy as np\n",
    "\n",
    "time_old = np.linspace(0, 10, 10)\n",
    "values = np.sin(time_old)\n",
    "f = interp1d(time_old, values, kind='cubic')\n",
    "time_new = np.linspace(0, 10, 100)\n",
    "values_new = f(time_new)\n"
   ]
  },
  {
   "cell_type": "markdown",
   "id": "901e0166",
   "metadata": {},
   "source": [
    "## 3.7 scipy.signal"
   ]
  },
  {
   "cell_type": "code",
   "execution_count": null,
   "id": "a5f2eb8f",
   "metadata": {},
   "outputs": [],
   "source": [
    "from scipy.signal import butter, filtfilt\n",
    "import numpy as np\n",
    "\n",
    "ecg_signal = np.sin(np.linspace(0, 4*np.pi, 500)) + 0.2 * np.random.randn(500)\n",
    "b, a = butter(4, [0.05, 0.4], btype='band')\n",
    "sig_filtered = filtfilt(b, a, ecg_signal)"
   ]
  },
  {
   "cell_type": "markdown",
   "id": "b60f6f1e",
   "metadata": {},
   "source": [
    "## 3.8 scipy.ndimage"
   ]
  },
  {
   "cell_type": "code",
   "execution_count": null,
   "id": "51f53592",
   "metadata": {},
   "outputs": [],
   "source": [
    "from scipy.ndimage import gaussian_filter\n",
    "import numpy as np\n",
    "\n",
    "image = np.random.rand(100, 100)\n",
    "smoothed = gaussian_filter(image, sigma=1.5)"
   ]
  },
  {
   "cell_type": "markdown",
   "id": "1ba6220b",
   "metadata": {},
   "source": [
    "## 3.9 scipy.spatial"
   ]
  },
  {
   "cell_type": "code",
   "execution_count": null,
   "id": "368a9d50",
   "metadata": {},
   "outputs": [],
   "source": [
    "from scipy.spatial import cKDTree\n",
    "import numpy as np\n",
    "\n",
    "points = np.random.rand(100, 2)\n",
    "tree = cKDTree(points)\n",
    "query_points = np.random.rand(10, 2)\n",
    "dists, idxs = tree.query(query_points, k=3)"
   ]
  },
  {
   "cell_type": "markdown",
   "id": "eeabeb15",
   "metadata": {},
   "source": [
    "## 4. Real-World Workflows"
   ]
  },
  {
   "cell_type": "code",
   "execution_count": null,
   "id": "a8ca26fb",
   "metadata": {},
   "outputs": [],
   "source": [
    "from scipy import interpolate, signal, stats, optimize\n",
    "import numpy as np\n",
    "\n",
    "t = np.linspace(0, 10, 10)\n",
    "y = np.sin(t) + 0.2 * np.random.randn(10)\n",
    "f = interpolate.interp1d(t, y, kind='cubic')\n",
    "t_new = np.linspace(0, 10, 100)\n",
    "y_imp = f(t_new)\n",
    "y_det = signal.detrend(y_imp)\n",
    "z = stats.zscore(y_det)\n",
    "mask = np.abs(z) < 2\n",
    "X = np.random.rand(100, 5)\n",
    "x0 = np.zeros(5)\n",
    "def loss(params, X, y): return np.mean((X.dot(params) - y)**2)\n",
    "res = optimize.minimize(loss, x0, args=(X[mask], y_det[mask]))"
   ]
  }
 ],
 "metadata": {
  "language_info": {
   "name": "python"
  }
 },
 "nbformat": 4,
 "nbformat_minor": 5
}
