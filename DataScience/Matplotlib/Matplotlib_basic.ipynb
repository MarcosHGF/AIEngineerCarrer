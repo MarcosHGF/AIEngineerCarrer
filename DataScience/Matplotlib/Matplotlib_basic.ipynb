{
 "cells": [
  {
   "cell_type": "markdown",
   "id": "ddb6b884",
   "metadata": {},
   "source": [
    "# Matplotlib\n",
    "\n",
    "Matplotlib is a foundational data visualization library for Python, widely used in Data Science, Machine Learning, and AI Engineering. It was designed to bring MATLAB-like plotting capabilities to Python. It allows developers and data scientists to create a broad range of static, animated, and interactive plots with full control over every element of the visualization. Matplotlib serves as the core layer upon which many other high-level visualization libraries like Seaborn and Pandas .plot() are built, making it an essential tool for anyone working with data.\n",
    "\n",
    "In Data Science, Matplotlib plays a critical role in every stage of the data workflow from exploratory data analysis (EDA), where it helps visualize data distributions and relationships, to model training and evaluation phases, where it’s used to plot metrics like loss curves, ROC curves, and confusion matrices. AI Engineers rely on Matplotlib for monitoring model performance, visualizing algorithm outputs, and preparing publication-quality figures for reports and presentations. Its flexibility allows both quick exploratory plots and fine-tuned professional graphics suitable for stakeholders and academic publications."
   ]
  },
  {
   "cell_type": "markdown",
   "id": "c865bc61",
   "metadata": {},
   "source": [
    "## Import"
   ]
  },
  {
   "cell_type": "code",
   "execution_count": null,
   "id": "edfda18d",
   "metadata": {},
   "outputs": [],
   "source": [
    "%pip install matplotlib\n",
    "\n",
    "import matplotlib.pyplot as plt"
   ]
  },
  {
   "cell_type": "markdown",
   "id": "82680b27",
   "metadata": {},
   "source": [
    "## Anatomy of a Matplotlib Plot (Core Fundamentals)\n",
    "\n",
    "1. Figure, Axes, Axis, Artist\n",
    "\n",
    "    Figure: The entire window or page.\n",
    "    Axes: Subplot; contains data area with two (or three) axis objects.\n",
    "    Axis: Manages axis line, ticks, tick labels.\n",
    "    Artist: Everything you see—titles, lines, text.\n",
    "\n",
    "2. State-based (pyplot) vs OOP Interface\n",
    "\n",
    "    Pyplot: plt.plot(), global state. Quick but less flexible.\n",
    "    OOP: fig, ax = plt.subplots(), method calls on ax. Recommended in production code.\n",
    "\n",
    "3. When to Use Each Style\n",
    "\n",
    "    Use pyplot in interactive exploration or quick prototyping.\n",
    "    Use OOP in scripts, functions, and classes to avoid state conflicts."
   ]
  },
  {
   "cell_type": "code",
   "execution_count": null,
   "id": "ba610c13",
   "metadata": {},
   "outputs": [],
   "source": [
    "# Pyplot\n",
    "plt.figure()\n",
    "plt.plot([1, 2, 3], [4, 5, 6])\n",
    "plt.title(\"Pyplot Example\")\n",
    "plt.show()\n",
    "\n",
    "# OOP\n",
    "fig, ax = plt.subplots()\n",
    "ax.plot([1, 2, 3], [4, 5, 6], marker='o')\n",
    "ax.set_title(\"OOP Example\")\n",
    "plt.show()"
   ]
  },
  {
   "cell_type": "markdown",
   "id": "32e8d6e5",
   "metadata": {},
   "source": [
    "## Creating Basic Plots"
   ]
  },
  {
   "cell_type": "markdown",
   "id": "c2a6a5e9",
   "metadata": {},
   "source": [
    "### Line Plots\n",
    "\n",
    "*Use Case*: Trends over continuous variables (time series, training loss)."
   ]
  },
  {
   "cell_type": "code",
   "execution_count": null,
   "id": "23283d86",
   "metadata": {},
   "outputs": [],
   "source": [
    "fig, ax = plt.subplots()\n",
    "ax.plot(dates, stock_prices, label='Stock Price')\n",
    "ax.set_xlabel('Date')\n",
    "ax.set_ylabel('Price')\n",
    "ax.legend()"
   ]
  },
  {
   "cell_type": "markdown",
   "id": "c9fdd179",
   "metadata": {},
   "source": [
    "### Scatter Plots\n",
    "\n",
    "*Use Case*: Relationship between two variables."
   ]
  },
  {
   "cell_type": "code",
   "execution_count": null,
   "id": "7515b055",
   "metadata": {},
   "outputs": [],
   "source": [
    "ax.scatter(X_test, y_pred, alpha=0.6)\n",
    "ax.set_title('Actual vs Predicted')"
   ]
  },
  {
   "cell_type": "markdown",
   "id": "f3fbf8a8",
   "metadata": {},
   "source": [
    "### Bar Charts\n",
    "\n",
    "Vertical and Horizontal."
   ]
  },
  {
   "cell_type": "code",
   "execution_count": null,
   "id": "16f68445",
   "metadata": {},
   "outputs": [],
   "source": [
    "ax.bar(categories, values)\n",
    "ax.barh(categories, values)"
   ]
  },
  {
   "cell_type": "markdown",
   "id": "2d68ca6b",
   "metadata": {},
   "source": [
    "### Histograms\n",
    "\n",
    "*Use Case*: Distribution of a variable."
   ]
  },
  {
   "cell_type": "code",
   "execution_count": null,
   "id": "dc250512",
   "metadata": {},
   "outputs": [],
   "source": [
    "ax.hist(data, bins=30, edgecolor='black')"
   ]
  },
  {
   "cell_type": "markdown",
   "id": "a2f2b0ec",
   "metadata": {},
   "source": [
    "### Pie Charts\n",
    "\n",
    "*Use Case*: Part-to-whole proportions."
   ]
  },
  {
   "cell_type": "code",
   "execution_count": null,
   "id": "b1fa622a",
   "metadata": {},
   "outputs": [],
   "source": [
    "ax.pie(sizes, labels=labels, autopct='%1.1f%%')"
   ]
  },
  {
   "cell_type": "markdown",
   "id": "c295b452",
   "metadata": {},
   "source": [
    "### Error Bars"
   ]
  },
  {
   "cell_type": "code",
   "execution_count": null,
   "id": "20224979",
   "metadata": {},
   "outputs": [],
   "source": [
    "ax.errorbar(x, y, yerr=errors, fmt='o')"
   ]
  },
  {
   "cell_type": "markdown",
   "id": "ae7a1f1b",
   "metadata": {},
   "source": [
    "## Customizing Plots"
   ]
  },
  {
   "cell_type": "markdown",
   "id": "c575fb69",
   "metadata": {},
   "source": [
    "### Titles, Labels, Legends"
   ]
  },
  {
   "cell_type": "code",
   "execution_count": null,
   "id": "7e5e650b",
   "metadata": {},
   "outputs": [],
   "source": [
    "ax.set_title('Model Accuracy Over Epochs', fontsize=14, fontstyle='italic')\n",
    "ax.set_xlabel('Epoch', fontsize=12)\n",
    "ax.set_ylabel('Accuracy', fontsize=12)\n",
    "ax.legend(loc='best', frameon=True)"
   ]
  },
  {
   "cell_type": "markdown",
   "id": "bc1ee5c4",
   "metadata": {},
   "source": [
    "### Fonts, Styles, Colors\n",
    "\n",
    "Font sizes/styles: fontsize, fontweight, fontfamily.\n",
    "\n",
    "Line styles: linestyle='--', markers: marker='s'."
   ]
  },
  {
   "cell_type": "markdown",
   "id": "64ca3f8b",
   "metadata": {},
   "source": [
    "### Grid, Ticks, Axis Limits"
   ]
  },
  {
   "cell_type": "code",
   "execution_count": null,
   "id": "c9a35c02",
   "metadata": {},
   "outputs": [],
   "source": [
    "ax.grid(True, linestyle=':')\n",
    "ax.set_xticks([0, 5, 10, 15])\n",
    "ax.set_xlim(0, 20)"
   ]
  },
  {
   "cell_type": "markdown",
   "id": "1b0ed066",
   "metadata": {},
   "source": [
    "### Annotations & Shapes"
   ]
  },
  {
   "cell_type": "code",
   "execution_count": null,
   "id": "afd7d724",
   "metadata": {},
   "outputs": [],
   "source": [
    "ax.annotate('Outlier', xy=(x0, y0), xytext=(x0+1, y0+10),\n",
    "            arrowprops=dict(arrowstyle='->'))"
   ]
  },
  {
   "cell_type": "markdown",
   "id": "ae91f972",
   "metadata": {},
   "source": [
    "## Multi-Plot Figures and Subplots"
   ]
  },
  {
   "cell_type": "code",
   "execution_count": null,
   "id": "30abba4f",
   "metadata": {},
   "outputs": [],
   "source": [
    "fig, axes = plt.subplots(2, 2, figsize=(10, 8), constrained_layout=True)\n",
    "axes[0,0].plot(...)\n",
    "axes[1,1].bar(...)"
   ]
  },
  {
   "cell_type": "markdown",
   "id": "1fa3a628",
   "metadata": {},
   "source": [
    "## Working with DataFrames (Matplotlib + Pandas)"
   ]
  },
  {
   "cell_type": "code",
   "execution_count": null,
   "id": "da2246be",
   "metadata": {},
   "outputs": [],
   "source": [
    "import pandas as pd\n",
    "\n",
    "df = pd.read_csv('data.csv', parse_dates=['date'])\n",
    "# Pandas plot\n",
    "df.set_index('date')['sales'].plot(ax=ax)\n",
    "\n",
    "# Direct Matplotlib\n",
    "dates = df['date']; sales = df['sales']\n",
    "ax.plot(dates, sales)"
   ]
  },
  {
   "cell_type": "markdown",
   "id": "5f991c7c",
   "metadata": {},
   "source": [
    "## Advanced Plot Types for Data Science & AI"
   ]
  },
  {
   "cell_type": "markdown",
   "id": "5a50b59b",
   "metadata": {},
   "source": [
    "### Heatmaps"
   ]
  },
  {
   "cell_type": "code",
   "execution_count": null,
   "id": "cca48af4",
   "metadata": {},
   "outputs": [],
   "source": [
    "ax.imshow(corr_matrix, cmap='viridis', aspect='auto')\n",
    "fig.colorbar(im, ax=ax)"
   ]
  },
  {
   "cell_type": "markdown",
   "id": "64291bc8",
   "metadata": {},
   "source": [
    "### Confusion Matrix"
   ]
  },
  {
   "cell_type": "code",
   "execution_count": null,
   "id": "132341f2",
   "metadata": {},
   "outputs": [],
   "source": [
    "from sklearn.metrics import confusion_matrix\n",
    "\n",
    "cm = confusion_matrix(y_true, y_pred)\n",
    "ax.matshow(cm, cmap='Blues')"
   ]
  },
  {
   "cell_type": "markdown",
   "id": "d9bda46b",
   "metadata": {},
   "source": [
    "### ROC & Precision-Recall Curves"
   ]
  },
  {
   "cell_type": "code",
   "execution_count": null,
   "id": "88564fac",
   "metadata": {},
   "outputs": [],
   "source": [
    "from sklearn.metrics import roc_curve\n",
    "\n",
    "fpr, tpr, _ = roc_curve(y_true, y_scores)\n",
    "ax.plot(fpr, tpr)"
   ]
  },
  {
   "cell_type": "markdown",
   "id": "ebd19a11",
   "metadata": {},
   "source": [
    "### Feature Importance"
   ]
  },
  {
   "cell_type": "code",
   "execution_count": null,
   "id": "229c4d17",
   "metadata": {},
   "outputs": [],
   "source": [
    "ax.barh(feature_names, importances)"
   ]
  },
  {
   "cell_type": "markdown",
   "id": "1873c0a1",
   "metadata": {},
   "source": [
    "### Training Loss/Accuracy Over Epochs"
   ]
  },
  {
   "cell_type": "code",
   "execution_count": null,
   "id": "f2c5a7ae",
   "metadata": {},
   "outputs": [],
   "source": [
    "ax.plot(history['loss'], label='Loss')\n",
    "ax.plot(history['accuracy'], label='Accuracy')"
   ]
  },
  {
   "cell_type": "markdown",
   "id": "1b72e10f",
   "metadata": {},
   "source": [
    "### Decision Boundary Visualization"
   ]
  },
  {
   "cell_type": "code",
   "execution_count": null,
   "id": "ee37c7c8",
   "metadata": {},
   "outputs": [],
   "source": [
    "xx, yy = np.meshgrid(...)\n",
    "Z = model.predict(np.c_[xx.ravel(), yy.ravel()])\n",
    "ax.contourf(xx, yy, Z.reshape(xx.shape), alpha=0.4)"
   ]
  },
  {
   "cell_type": "markdown",
   "id": "f656a653",
   "metadata": {},
   "source": [
    "## Controlling Colors, Colormaps, and Styles\n",
    "\n",
    "Built-in styles: plt.style.use('ggplot').\n",
    "\n",
    "Colormaps: plt.cm.viridis, custom via ListedColormap."
   ]
  },
  {
   "cell_type": "code",
   "execution_count": null,
   "id": "ec4540a8",
   "metadata": {},
   "outputs": [],
   "source": [
    "im = ax.scatter(x, y, c=values, cmap='coolwarm')\n",
    "fig.colorbar(im, ax=ax)"
   ]
  },
  {
   "cell_type": "markdown",
   "id": "cf362e9b",
   "metadata": {},
   "source": [
    "## Time Series Visualization"
   ]
  },
  {
   "cell_type": "code",
   "execution_count": null,
   "id": "e6e5b053",
   "metadata": {},
   "outputs": [],
   "source": [
    "ax.plot(df['date'], df['value'])\n",
    "ax.xaxis.set_major_formatter(mdates.DateFormatter('%Y-%m'))"
   ]
  },
  {
   "cell_type": "markdown",
   "id": "87963caf",
   "metadata": {},
   "source": [
    "## Saving Plots Professionally"
   ]
  },
  {
   "cell_type": "code",
   "execution_count": null,
   "id": "eea3f28e",
   "metadata": {},
   "outputs": [],
   "source": [
    "fig.savefig('figure.png', dpi=300, bbox_inches='tight')\n",
    "fig.savefig('figure.svg')\n",
    "\n",
    "# Multi-page PDF\n",
    "from matplotlib.backends.backend_pdf import PdfPages\n",
    "\n",
    "with PdfPages('report.pdf') as pdf:\n",
    "    pdf.savefig(fig1)\n",
    "    pdf.savefig(fig2)"
   ]
  }
 ],
 "metadata": {
  "kernelspec": {
   "display_name": "AiCarrer",
   "language": "python",
   "name": "python3"
  },
  "language_info": {
   "name": "python",
   "version": "3.11.13"
  }
 },
 "nbformat": 4,
 "nbformat_minor": 5
}
