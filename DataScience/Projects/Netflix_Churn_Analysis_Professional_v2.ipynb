{
 "cells": [
  {
   "cell_type": "code",
   "execution_count": null,
   "id": "bda8e028",
   "metadata": {},
   "outputs": [],
   "source": [
    "# 📦 Imports\n",
    "import numpy as np\n",
    "import pandas as pd\n",
    "import matplotlib.pyplot as plt\n",
    "import seaborn as sns\n",
    "\n",
    "from sklearn.model_selection import train_test_split, StratifiedKFold, GridSearchCV\n",
    "from sklearn.preprocessing import StandardScaler, OneHotEncoder\n",
    "from sklearn.compose import ColumnTransformer\n",
    "from sklearn.pipeline import Pipeline\n",
    "from sklearn.linear_model import LogisticRegression\n",
    "from sklearn.ensemble import RandomForestClassifier\n",
    "from sklearn.metrics import (accuracy_score, precision_score, recall_score,\n",
    "                             f1_score, roc_auc_score, classification_report,\n",
    "                             confusion_matrix, roc_curve)\n",
    "\n",
    "import warnings\n",
    "warnings.filterwarnings('ignore')\n",
    "plt.style.use(\"seaborn-darkgrid\")\n"
   ]
  },
  {
   "cell_type": "code",
   "execution_count": null,
   "id": "aaa950a6",
   "metadata": {},
   "outputs": [],
   "source": [
    "# 🧪 Sample data (5 lines only to keep it executable)\n",
    "from io import StringIO\n",
    "\n",
    "sample_data = \"\"\"\n",
    "customer_id,age,gender,subscription_type,watch_hours,last_login_days,region,device,monthly_fee,churned,payment_method,number_of_profiles,avg_watch_time_per_day,favorite_genre\n",
    "a9b75100-82a8-427a-a208-72f24052884a,51,Other,Basic,14.73,29,Africa,TV,8.99,1,Gift Card,1,0.49,Action\n",
    "49a5dfd9-7e69-4022-a6ad-0a1b9767fb5b,47,Other,Standard,0.7,19,Europe,Mobile,13.99,1,Gift Card,5,0.03,Sci-Fi\n",
    "4d71f6ce-fca9-4ff7-8afa-197ac24de14b,27,Female,Standard,16.32,10,Asia,TV,13.99,0,Crypto,2,1.48,Drama\n",
    "d3c72c38-631b-4f9e-8a0e-de103cad1a7d,53,Other,Premium,4.51,12,Oceania,TV,17.99,1,Crypto,2,0.35,Horror\n",
    "4e265c34-103a-4dbb-9553-76c9aa47e946,56,Other,Standard,1.89,13,Africa,Mobile,13.99,1,Crypto,2,0.13,Action\n",
    "\"\"\"\n",
    "df = pd.read_csv(StringIO(sample_data))\n",
    "df['watch_per_login'] = df['watch_hours'] / (df['last_login_days'] + 1)\n"
   ]
  },
  {
   "cell_type": "code",
   "execution_count": null,
   "id": "875deb54",
   "metadata": {},
   "outputs": [],
   "source": [
    "# 🎯 Preprocessing\n",
    "X = df.drop(columns=['customer_id', 'churned'])\n",
    "y = df['churned']\n",
    "\n",
    "numeric_features = ['age', 'watch_hours', 'last_login_days', 'monthly_fee',\n",
    "                    'number_of_profiles', 'avg_watch_time_per_day', 'watch_per_login']\n",
    "categorical_features = ['gender', 'subscription_type', 'region', 'device',\n",
    "                        'payment_method', 'favorite_genre']\n",
    "\n",
    "numeric_transformer = Pipeline(steps=[('scaler', StandardScaler())])\n",
    "categorical_transformer = Pipeline(steps=[('onehot', OneHotEncoder(drop='first', sparse_output=False, handle_unknown='ignore'))])\n",
    "\n",
    "preprocessor = ColumnTransformer(transformers=[\n",
    "    ('num', numeric_transformer, numeric_features),\n",
    "    ('cat', categorical_transformer, categorical_features)\n",
    "])\n"
   ]
  },
  {
   "cell_type": "code",
   "execution_count": null,
   "id": "9fa67269",
   "metadata": {},
   "outputs": [],
   "source": [
    "# 🔍 Modeling\n",
    "def build_model(clf):\n",
    "    return Pipeline(steps=[('preprocessor', preprocessor), ('classifier', clf)])\n",
    "\n",
    "log_pipe = build_model(LogisticRegression(max_iter=1000))\n",
    "rf_pipe = build_model(RandomForestClassifier(random_state=42))\n",
    "\n",
    "param_grid_lr = {'classifier__C': [0.1, 1, 10]}\n",
    "param_grid_rf = {'classifier__n_estimators': [100, 200], 'classifier__max_depth': [None, 10]}\n",
    "\n",
    "kf = StratifiedKFold(n_splits=3, shuffle=True, random_state=42)\n",
    "gs_lr = GridSearchCV(log_pipe, param_grid_lr, cv=kf, scoring='roc_auc', n_jobs=-1)\n",
    "gs_rf = GridSearchCV(rf_pipe, param_grid_rf, cv=kf, scoring='roc_auc', n_jobs=-1)\n",
    "\n",
    "gs_lr.fit(X, y)\n",
    "gs_rf.fit(X, y)\n",
    "\n",
    "print(f\"Best LR: {gs_lr.best_params_}, AUC: {gs_lr.best_score_:.4f}\")\n",
    "print(f\"Best RF: {gs_rf.best_params_}, AUC: {gs_rf.best_score_:.4f}\")\n"
   ]
  },
  {
   "cell_type": "markdown",
   "id": "3a104bd7",
   "metadata": {},
   "source": [
    "## 📉 PHASE 7: Hypothesis Testing & A/B Testing"
   ]
  },
  {
   "cell_type": "code",
   "execution_count": null,
   "id": "23c1659c",
   "metadata": {},
   "outputs": [],
   "source": [
    "from scipy.stats import chi2_contingency, ttest_ind\n",
    "\n",
    "# Chi-squared: churn by payment method\n",
    "contingency = pd.crosstab(df['payment_method'], df['churned'])\n",
    "chi2, p, dof, _ = chi2_contingency(contingency)\n",
    "print(\"Chi-squared test for churn vs payment_method\")\n",
    "print(\"Chi2 =\", chi2, \" | p-value =\", p)\n",
    "\n",
    "# T-test: Premium vs Basic in watch_hours\n",
    "premium = df[df['subscription_type'] == 'Premium']['watch_hours']\n",
    "basic = df[df['subscription_type'] == 'Basic']['watch_hours']\n",
    "t_stat, p_val = ttest_ind(premium, basic, equal_var=False)\n",
    "print(\"\\nT-test: Premium vs Basic\")\n",
    "print(\"t =\", t_stat, \" | p =\", p_val)\n"
   ]
  },
  {
   "cell_type": "markdown",
   "id": "326d34ba",
   "metadata": {},
   "source": [
    "## 📈 PHASE 8: Model Tuning & Explainability"
   ]
  },
  {
   "cell_type": "code",
   "execution_count": null,
   "id": "16522845",
   "metadata": {},
   "outputs": [],
   "source": [
    "# Final model & feature importance\n",
    "best_model = gs_rf if gs_rf.best_score_ > gs_lr.best_score_ else gs_lr\n",
    "best_model.fit(X, y)\n",
    "\n",
    "cat_encoder = preprocessor.named_transformers_['cat'].named_steps['onehot']\n",
    "cat_names = cat_encoder.get_feature_names_out(categorical_features)\n",
    "all_feature_names = np.concatenate([numeric_features, cat_names])\n",
    "\n",
    "# Tree-based feature importance\n",
    "importances = best_model.best_estimator_.named_steps['classifier'].feature_importances_\n",
    "feat_imp = pd.Series(importances, index=all_feature_names).sort_values(ascending=True)\n",
    "feat_imp.plot(kind='barh', figsize=(8,6), title='Feature Importance')\n",
    "plt.tight_layout()\n",
    "plt.show()\n"
   ]
  }
 ],
 "metadata": {
  "language_info": {
   "name": "python"
  }
 },
 "nbformat": 4,
 "nbformat_minor": 5
}
